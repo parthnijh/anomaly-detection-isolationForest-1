{
 "cells": [
  {
   "cell_type": "code",
   "execution_count": 2,
   "id": "898cc32c-c34a-4943-9a76-ee12052f3b0e",
   "metadata": {},
   "outputs": [],
   "source": [
    "import pandas as pd\n",
    "import numpy as np\n",
    "import matplotlib.pyplot as plt\n",
    "import seaborn as sns\n",
    "from sklearn.ensemble import IsolationForest"
   ]
  },
  {
   "cell_type": "code",
   "execution_count": 3,
   "id": "c1a77074-dd09-4124-b76a-4a5769476e38",
   "metadata": {},
   "outputs": [
    {
     "data": {
      "text/html": [
       "<div>\n",
       "<style scoped>\n",
       "    .dataframe tbody tr th:only-of-type {\n",
       "        vertical-align: middle;\n",
       "    }\n",
       "\n",
       "    .dataframe tbody tr th {\n",
       "        vertical-align: top;\n",
       "    }\n",
       "\n",
       "    .dataframe thead th {\n",
       "        text-align: right;\n",
       "    }\n",
       "</style>\n",
       "<table border=\"1\" class=\"dataframe\">\n",
       "  <thead>\n",
       "    <tr style=\"text-align: right;\">\n",
       "      <th></th>\n",
       "      <th>Time</th>\n",
       "      <th>V1</th>\n",
       "      <th>V2</th>\n",
       "      <th>V3</th>\n",
       "      <th>V4</th>\n",
       "      <th>V5</th>\n",
       "      <th>V6</th>\n",
       "      <th>V7</th>\n",
       "      <th>V8</th>\n",
       "      <th>V9</th>\n",
       "      <th>...</th>\n",
       "      <th>V21</th>\n",
       "      <th>V22</th>\n",
       "      <th>V23</th>\n",
       "      <th>V24</th>\n",
       "      <th>V25</th>\n",
       "      <th>V26</th>\n",
       "      <th>V27</th>\n",
       "      <th>V28</th>\n",
       "      <th>Amount</th>\n",
       "      <th>Class</th>\n",
       "    </tr>\n",
       "  </thead>\n",
       "  <tbody>\n",
       "    <tr>\n",
       "      <th>0</th>\n",
       "      <td>0.0</td>\n",
       "      <td>-1.359807</td>\n",
       "      <td>-0.072781</td>\n",
       "      <td>2.536347</td>\n",
       "      <td>1.378155</td>\n",
       "      <td>-0.338321</td>\n",
       "      <td>0.462388</td>\n",
       "      <td>0.239599</td>\n",
       "      <td>0.098698</td>\n",
       "      <td>0.363787</td>\n",
       "      <td>...</td>\n",
       "      <td>-0.018307</td>\n",
       "      <td>0.277838</td>\n",
       "      <td>-0.110474</td>\n",
       "      <td>0.066928</td>\n",
       "      <td>0.128539</td>\n",
       "      <td>-0.189115</td>\n",
       "      <td>0.133558</td>\n",
       "      <td>-0.021053</td>\n",
       "      <td>149.62</td>\n",
       "      <td>0</td>\n",
       "    </tr>\n",
       "    <tr>\n",
       "      <th>1</th>\n",
       "      <td>0.0</td>\n",
       "      <td>1.191857</td>\n",
       "      <td>0.266151</td>\n",
       "      <td>0.166480</td>\n",
       "      <td>0.448154</td>\n",
       "      <td>0.060018</td>\n",
       "      <td>-0.082361</td>\n",
       "      <td>-0.078803</td>\n",
       "      <td>0.085102</td>\n",
       "      <td>-0.255425</td>\n",
       "      <td>...</td>\n",
       "      <td>-0.225775</td>\n",
       "      <td>-0.638672</td>\n",
       "      <td>0.101288</td>\n",
       "      <td>-0.339846</td>\n",
       "      <td>0.167170</td>\n",
       "      <td>0.125895</td>\n",
       "      <td>-0.008983</td>\n",
       "      <td>0.014724</td>\n",
       "      <td>2.69</td>\n",
       "      <td>0</td>\n",
       "    </tr>\n",
       "    <tr>\n",
       "      <th>2</th>\n",
       "      <td>1.0</td>\n",
       "      <td>-1.358354</td>\n",
       "      <td>-1.340163</td>\n",
       "      <td>1.773209</td>\n",
       "      <td>0.379780</td>\n",
       "      <td>-0.503198</td>\n",
       "      <td>1.800499</td>\n",
       "      <td>0.791461</td>\n",
       "      <td>0.247676</td>\n",
       "      <td>-1.514654</td>\n",
       "      <td>...</td>\n",
       "      <td>0.247998</td>\n",
       "      <td>0.771679</td>\n",
       "      <td>0.909412</td>\n",
       "      <td>-0.689281</td>\n",
       "      <td>-0.327642</td>\n",
       "      <td>-0.139097</td>\n",
       "      <td>-0.055353</td>\n",
       "      <td>-0.059752</td>\n",
       "      <td>378.66</td>\n",
       "      <td>0</td>\n",
       "    </tr>\n",
       "    <tr>\n",
       "      <th>3</th>\n",
       "      <td>1.0</td>\n",
       "      <td>-0.966272</td>\n",
       "      <td>-0.185226</td>\n",
       "      <td>1.792993</td>\n",
       "      <td>-0.863291</td>\n",
       "      <td>-0.010309</td>\n",
       "      <td>1.247203</td>\n",
       "      <td>0.237609</td>\n",
       "      <td>0.377436</td>\n",
       "      <td>-1.387024</td>\n",
       "      <td>...</td>\n",
       "      <td>-0.108300</td>\n",
       "      <td>0.005274</td>\n",
       "      <td>-0.190321</td>\n",
       "      <td>-1.175575</td>\n",
       "      <td>0.647376</td>\n",
       "      <td>-0.221929</td>\n",
       "      <td>0.062723</td>\n",
       "      <td>0.061458</td>\n",
       "      <td>123.50</td>\n",
       "      <td>0</td>\n",
       "    </tr>\n",
       "    <tr>\n",
       "      <th>4</th>\n",
       "      <td>2.0</td>\n",
       "      <td>-1.158233</td>\n",
       "      <td>0.877737</td>\n",
       "      <td>1.548718</td>\n",
       "      <td>0.403034</td>\n",
       "      <td>-0.407193</td>\n",
       "      <td>0.095921</td>\n",
       "      <td>0.592941</td>\n",
       "      <td>-0.270533</td>\n",
       "      <td>0.817739</td>\n",
       "      <td>...</td>\n",
       "      <td>-0.009431</td>\n",
       "      <td>0.798278</td>\n",
       "      <td>-0.137458</td>\n",
       "      <td>0.141267</td>\n",
       "      <td>-0.206010</td>\n",
       "      <td>0.502292</td>\n",
       "      <td>0.219422</td>\n",
       "      <td>0.215153</td>\n",
       "      <td>69.99</td>\n",
       "      <td>0</td>\n",
       "    </tr>\n",
       "  </tbody>\n",
       "</table>\n",
       "<p>5 rows × 31 columns</p>\n",
       "</div>"
      ],
      "text/plain": [
       "   Time        V1        V2        V3        V4        V5        V6        V7  \\\n",
       "0   0.0 -1.359807 -0.072781  2.536347  1.378155 -0.338321  0.462388  0.239599   \n",
       "1   0.0  1.191857  0.266151  0.166480  0.448154  0.060018 -0.082361 -0.078803   \n",
       "2   1.0 -1.358354 -1.340163  1.773209  0.379780 -0.503198  1.800499  0.791461   \n",
       "3   1.0 -0.966272 -0.185226  1.792993 -0.863291 -0.010309  1.247203  0.237609   \n",
       "4   2.0 -1.158233  0.877737  1.548718  0.403034 -0.407193  0.095921  0.592941   \n",
       "\n",
       "         V8        V9  ...       V21       V22       V23       V24       V25  \\\n",
       "0  0.098698  0.363787  ... -0.018307  0.277838 -0.110474  0.066928  0.128539   \n",
       "1  0.085102 -0.255425  ... -0.225775 -0.638672  0.101288 -0.339846  0.167170   \n",
       "2  0.247676 -1.514654  ...  0.247998  0.771679  0.909412 -0.689281 -0.327642   \n",
       "3  0.377436 -1.387024  ... -0.108300  0.005274 -0.190321 -1.175575  0.647376   \n",
       "4 -0.270533  0.817739  ... -0.009431  0.798278 -0.137458  0.141267 -0.206010   \n",
       "\n",
       "        V26       V27       V28  Amount  Class  \n",
       "0 -0.189115  0.133558 -0.021053  149.62      0  \n",
       "1  0.125895 -0.008983  0.014724    2.69      0  \n",
       "2 -0.139097 -0.055353 -0.059752  378.66      0  \n",
       "3 -0.221929  0.062723  0.061458  123.50      0  \n",
       "4  0.502292  0.219422  0.215153   69.99      0  \n",
       "\n",
       "[5 rows x 31 columns]"
      ]
     },
     "execution_count": 3,
     "metadata": {},
     "output_type": "execute_result"
    }
   ],
   "source": [
    "df=pd.read_csv(\"data/creditcard.csv\")\n",
    "df.head()"
   ]
  },
  {
   "cell_type": "code",
   "execution_count": 4,
   "id": "ae0a0b42-75b4-4bb7-87d7-f99b4dc2e43e",
   "metadata": {},
   "outputs": [
    {
     "data": {
      "text/plain": [
       "Class\n",
       "0    284315\n",
       "1       492\n",
       "Name: count, dtype: int64"
      ]
     },
     "execution_count": 4,
     "metadata": {},
     "output_type": "execute_result"
    }
   ],
   "source": [
    "df[\"Class\"].value_counts()"
   ]
  },
  {
   "cell_type": "code",
   "execution_count": 38,
   "id": "29df00d6-b0ca-4ccf-b30f-6429e06e7b43",
   "metadata": {},
   "outputs": [
    {
     "name": "stdout",
     "output_type": "stream",
     "text": [
      "<class 'pandas.core.frame.DataFrame'>\n",
      "RangeIndex: 284807 entries, 0 to 284806\n",
      "Data columns (total 34 columns):\n",
      " #   Column              Non-Null Count   Dtype  \n",
      "---  ------              --------------   -----  \n",
      " 0   Time                284807 non-null  float64\n",
      " 1   V1                  284807 non-null  float64\n",
      " 2   V2                  284807 non-null  float64\n",
      " 3   V3                  284807 non-null  float64\n",
      " 4   V4                  284807 non-null  float64\n",
      " 5   V5                  284807 non-null  float64\n",
      " 6   V6                  284807 non-null  float64\n",
      " 7   V7                  284807 non-null  float64\n",
      " 8   V8                  284807 non-null  float64\n",
      " 9   V9                  284807 non-null  float64\n",
      " 10  V10                 284807 non-null  float64\n",
      " 11  V11                 284807 non-null  float64\n",
      " 12  V12                 284807 non-null  float64\n",
      " 13  V13                 284807 non-null  float64\n",
      " 14  V14                 284807 non-null  float64\n",
      " 15  V15                 284807 non-null  float64\n",
      " 16  V16                 284807 non-null  float64\n",
      " 17  V17                 284807 non-null  float64\n",
      " 18  V18                 284807 non-null  float64\n",
      " 19  V19                 284807 non-null  float64\n",
      " 20  V20                 284807 non-null  float64\n",
      " 21  V21                 284807 non-null  float64\n",
      " 22  V22                 284807 non-null  float64\n",
      " 23  V23                 284807 non-null  float64\n",
      " 24  V24                 284807 non-null  float64\n",
      " 25  V25                 284807 non-null  float64\n",
      " 26  V26                 284807 non-null  float64\n",
      " 27  V27                 284807 non-null  float64\n",
      " 28  V28                 284807 non-null  float64\n",
      " 29  Amount              284807 non-null  float64\n",
      " 30  Class               284807 non-null  int64  \n",
      " 31  anomaly_prediction  284807 non-null  int64  \n",
      " 32  pca1                284807 non-null  float64\n",
      " 33  pca2                284807 non-null  float64\n",
      "dtypes: float64(32), int64(2)\n",
      "memory usage: 73.9 MB\n"
     ]
    }
   ],
   "source": [
    "df.info()"
   ]
  },
  {
   "cell_type": "code",
   "execution_count": 36,
   "id": "2e0ceb9c-bf9e-4d0a-8710-e3f3434e7106",
   "metadata": {},
   "outputs": [],
   "source": [
    "clf = IsolationForest(contamination=0.0017, random_state=42)\n",
    "## \n",
    "X=df.drop(\"Class\",axis=1)\n",
    "from sklearn.preprocessing import StandardScaler\n",
    "X_scaled=StandardScaler().fit_transform(X)\n",
    "clf.fit(X_scaled)\n",
    "preds=clf.predict(X_scaled)\n",
    "df[\"anomaly_prediction\"]=preds\n"
   ]
  },
  {
   "cell_type": "code",
   "execution_count": 24,
   "id": "19d9510b-9bfd-43c4-993d-bfd5d5b27d5b",
   "metadata": {},
   "outputs": [
    {
     "data": {
      "text/plain": [
       "(array([    51,     82,     85, ..., 284649, 284795, 284802], shape=(9276,)),)"
      ]
     },
     "execution_count": 24,
     "metadata": {},
     "output_type": "execute_result"
    }
   ],
   "source": [
    "np.where(preds==-1)"
   ]
  },
  {
   "cell_type": "code",
   "execution_count": 41,
   "id": "e937b8b5-57d5-423f-8c2a-db1716a1a322",
   "metadata": {},
   "outputs": [
    {
     "data": {
      "text/plain": [
       "0.001727485630620034"
      ]
     },
     "execution_count": 41,
     "metadata": {},
     "output_type": "execute_result"
    }
   ],
   "source": [
    " 492/284807 ## this is how we get the contamination parameter , contamination parameter is basically the threshold needed to define a dataset as outlier\n",
    "            ## or not"
   ]
  },
  {
   "cell_type": "code",
   "execution_count": 37,
   "id": "b5a443e7-b4dd-43f1-8070-122075a884cc",
   "metadata": {},
   "outputs": [
    {
     "data": {
      "text/plain": [
       "<matplotlib.collections.PathCollection at 0x13e8ccebb10>"
      ]
     },
     "execution_count": 37,
     "metadata": {},
     "output_type": "execute_result"
    },
    {
     "data": {
      "image/png": "[encoded data removed]",
      "text/plain": [
       "<Figure size 640x480 with 1 Axes>"
      ]
     },
     "metadata": {},
     "output_type": "display_data"
    }
   ],
   "source": [
    "from sklearn.decomposition import PCA\n",
    "# X=df.drop([\"Class\",\"anomaly_prediction\"],axis=1)\n",
    "pca=PCA(n_components=2)\n",
    "\n",
    "X_pca=pca.fit_transform(X_scaled)\n",
    "df[\"pca1\"]=X_pca[:,0]\n",
    "df[\"pca2\"]=X_pca[:,1]\n",
    "outliers=df[df[\"anomaly_prediction\"]==-1]\n",
    "inliers=df[df[\"anomaly_prediction\"]==1]\n",
    "plt.scatter(inliers[\"pca1\"],inliers[\"pca2\"],c=\"blue\")\n",
    "plt.scatter(outliers[\"pca1\"],outliers[\"pca2\"],c=\"red\")"
   ]
  },
  {
   "cell_type": "code",
   "execution_count": 28,
   "id": "abbec528-497c-420a-8cae-f4f1fcc6cdf3",
   "metadata": {},
   "outputs": [
    {
     "name": "stdout",
     "output_type": "stream",
     "text": [
      "Outliers: 9276\n",
      "Inliers: 275531\n"
     ]
    }
   ],
   "source": [
    "print(\"Outliers:\", len(outliers))\n",
    "print(\"Inliers:\", len(inliers))\n"
   ]
  },
  {
   "cell_type": "markdown",
   "id": "5149c512-d437-462f-977a-196211fdf07d",
   "metadata": {},
   "source": [
    "Heres a summary of happened in this notebook\n",
    "1. We loaded the dataset\n",
    "2. We defined X by dropping the class label from the dataset\n",
    "3. We scaled X to remove the high  influence of heavy values from the Amount column\n",
    "4. Then fit the X to the isolation Forest and made a column of the anomaly predictions in the dataframe\n",
    "5. We then used PCA to make 2 features using the 30 features of the dataset as we cant visualise all 30 features\n",
    "6. Made two new dataframes one of all outliers and one of all inliers\n",
    "7. Plotted the two to visualise outliers and inliers"
   ]
  },
  {
   "cell_type": "code",
   "execution_count": null,
   "id": "225a9714-f5f4-4a17-af43-6c6005ea5dc6",
   "metadata": {},
   "outputs": [],
   "source": []
  },
  {
   "cell_type": "code",
   "execution_count": null,
   "id": "3af46503-65d5-45a2-98f3-bdc8dd599860",
   "metadata": {},
   "outputs": [],
   "source": []
  }
 ],
 "metadata": {
  "kernelspec": {
   "display_name": "Python 3 (ipykernel)",
   "language": "python",
   "name": "python3"
  },
  "language_info": {
   "codemirror_mode": {
    "name": "ipython",
    "version": 3
   },
   "file_extension": ".py",
   "mimetype": "text/x-python",
   "name": "python",
   "nbconvert_exporter": "python",
   "pygments_lexer": "ipython3",
   "version": "3.13.5"
  }
 },
 "nbformat": 4,
 "nbformat_minor": 5
}
